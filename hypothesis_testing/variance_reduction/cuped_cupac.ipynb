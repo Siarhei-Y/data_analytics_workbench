{
 "cells": [
  {
   "cell_type": "code",
   "execution_count": 1,
   "metadata": {},
   "outputs": [],
   "source": [
    "import pandas as pd\n",
    "import numpy as np"
   ]
  },
  {
   "cell_type": "markdown",
   "metadata": {},
   "source": [
    "# CUPED\n",
    "**CUPED (Controlled-experiment Using Pre-Experiment Data or regression adjustment)** был разработан для уменьшения дисперсии путем включения данных, полученных до эксперимента, с помощью линейной регрессии. В отдельных случаях используются данные, которые собраны во время эксперименты, но они должны быть независимы от эксперимента. Один из способов проверки независимости - проверка ковариат одной группы с ковариатами другой через статистический тест.\n",
    "\n",
    "\n",
    "$$Y_{cuped} = Y -\\theta X$$\n",
    "$\\theta X$= линейная регрессия для одной ковариаты.\n",
    "$\\theta = \\frac{cov(Y,X)}{var(x)}$ <br>\n",
    "Требования:\n",
    "\n",
    "- $E[X | W = 1] = E[X | W = 0]$ где W номер группы в тесте.\n"
   ]
  },
  {
   "cell_type": "code",
   "execution_count": null,
   "metadata": {},
   "outputs": [],
   "source": [
    "def cuped(\n",
    "        test_col: pd.Series,\n",
    "        cov_col: pd.Series,\n",
    ")->pd.Series:\n",
    "        \"\"\" \n",
    "        Создает cuped-колонку \n",
    "\n",
    "        test_col (pd.Series): колонка с данными теста в обоих группах.\n",
    "        cov_col (pd.Series) : колонка с данными ковариаты.\n",
    "\n",
    "        return - готовая cuped-колонка.\n",
    "        \"\"\"\n",
    "\n",
    "        covariance = np.cov(cov_col, test_col)[0, 1]\n",
    "        variance = cov_col.var()\n",
    "        theta = covariance / variance\n",
    "        cuped_col = test_col - theta * cov_col\n",
    "\n",
    "        return cuped_col\n"
   ]
  },
  {
   "cell_type": "markdown",
   "metadata": {},
   "source": [
    "# CUPAC \n",
    "**CUPAC (Control Using Predictions as Covariates)** использует модели машинного обучения для предсказания Y, и использует Y_predicted в качестве ковариаты.\n",
    "$$Y_{cupac} =Y-f(X_i) $$\n",
    "\n",
    "Требования:\n",
    "<br> для  $X| W = 1$ and $X | W = 0$, которые взяты во время эксперимента, должны иметь одинаковое распределения. Проверяется тестами на одинаковость распределений.<br>\n",
    "\n",
    "Здесь будет предоставлена функция сразу с улучшенным CUPAC, который использует любую модель МО для предсказания Y, а после использует линейную регрессию для предсказания $Y_{cupac}$:\n",
    "$$Y_{improvedCupac} =Y -\\hat{f}(X_i)-\\hat{\\gamma} Z_i $$\n",
    "$\\hat{f}(X_i)$ - предсказанная Y с помощью доэкспериментальных ковариат. <br>\n",
    "$\\hat{\\gamma}$ - предсказанная $\\hat{R_i} = Y_i − \\hat{f}(X_i)$.<br>\n",
    "$Z_i$ - внутриэкспериментальные ковариаты. <br>\n",
    "Подробности в статьях: https://arxiv.org/pdf/2410.09027 https://habr.com/ru/articles/869998/\n"
   ]
  },
  {
   "cell_type": "code",
   "execution_count": null,
   "metadata": {},
   "outputs": [],
   "source": [
    "def improved_cupac(\n",
    "    test_col: pd.Series,    \n",
    "\tpre_test_covs: pd.DataFrame,\n",
    "\tin_test_covs: pd.DataFrame,\n",
    "\tcupac_model\n",
    ") -> pd.Series:\n",
    "\t\"\"\"\n",
    "    Считает улучшенный CUPAC\n",
    "\n",
    "    test_col (pd.Series): колонка с данными теста в обоих группах.\n",
    "\tpre_test_covs (pd.DataFrame): данные с доэкспериментальными ковариатами.\n",
    "\tin_test_covs: (pd.DataFrame): данные с внутриэкспериментальными ковариатами.\n",
    "\tcupac_model: объект модели МО.\n",
    "\n",
    "\treturn - готовая CUPAC колонка.\n",
    "\n",
    "    \"\"\"\n",
    "\n",
    "    #CUPAC\n",
    "\tmodel = cupac_model.fit(pre_test_covs, test_col) \n",
    "\tY_pred = model.predict(pre_test_covs)\n",
    "\n",
    "\tr = test_col - Y_pred\n",
    "\n",
    "\t#Improved CUPAC\n",
    "\tfrom sklearn.linear_model import LinearRegression\n",
    "\tlin_model = LinearRegression()\t\n",
    "\tlin_model.fit(in_test_covs, r)\n",
    "\tgamma_hat = lin_model.coef_\n",
    "\n",
    "\tadj_R = r - in_test_covs.dot(gamma_hat)\n",
    "\n",
    "\treturn adj_R"
   ]
  },
  {
   "cell_type": "code",
   "execution_count": null,
   "metadata": {},
   "outputs": [],
   "source": []
  }
 ],
 "metadata": {
  "kernelspec": {
   "display_name": "Python 3",
   "language": "python",
   "name": "python3"
  },
  "language_info": {
   "codemirror_mode": {
    "name": "ipython",
    "version": 3
   },
   "file_extension": ".py",
   "mimetype": "text/x-python",
   "name": "python",
   "nbconvert_exporter": "python",
   "pygments_lexer": "ipython3",
   "version": "3.12.7"
  }
 },
 "nbformat": 4,
 "nbformat_minor": 2
}
